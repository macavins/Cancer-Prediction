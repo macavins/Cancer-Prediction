{
 "cells": [
  {
   "cell_type": "markdown",
   "id": "2f12e240",
   "metadata": {
    "colab_type": "text",
    "id": "view-in-github"
   },
   "source": [
    "<a href=\"https://colab.research.google.com/github/vappiah/Machine-Learning-Tutorials/blob/main/notebooks/projects/Neural_Networks_for_Cancer_Prediction_Episode_1.ipynb\" target=\"_parent\"><img src=\"https://colab.research.google.com/assets/colab-badge.svg\" alt=\"Open In Colab\"/></a>"
   ]
  },
  {
   "cell_type": "markdown",
   "id": "b05c990e",
   "metadata": {
    "id": "b05c990e"
   },
   "source": [
    "# Neural Network for Cancer Prediction\n",
    "The data used for this tutorial is an RNA-seq gene expression data for different cancer types. The rows represent cancer samples and the columns represent gene count values. The last column contains the cancer categories.\n",
    "\n",
    "The original data can found here: https://archive.ics.uci.edu/ml/datasets/gene+expression+cancer+RNA-Seq#"
   ]
  },
  {
   "cell_type": "markdown",
   "id": "5d7202fe",
   "metadata": {
    "id": "5d7202fe"
   },
   "source": [
    "## Required Libraries\n",
    " - numpy\n",
    " - matplotlib\n",
    " - pandas\n",
    " - tensorflow\n",
    " - keras\n",
    " - scikit-learn"
   ]
  },
  {
   "cell_type": "markdown",
   "id": "91f3dde3",
   "metadata": {
    "id": "91f3dde3"
   },
   "source": [
    "## Import Python libraries"
   ]
  },
  {
   "cell_type": "code",
   "execution_count": 2,
   "id": "d11c216c",
   "metadata": {},
   "outputs": [
    {
     "name": "stdout",
     "output_type": "stream",
     "text": [
      "Requirement already satisfied: scikit-learn in /home/macavins/anaconda3/lib/python3.9/site-packages (1.3.1)\n",
      "Requirement already satisfied: numpy<2.0,>=1.17.3 in /home/macavins/anaconda3/lib/python3.9/site-packages (from scikit-learn) (1.24.3)\n",
      "Requirement already satisfied: scipy>=1.5.0 in /home/macavins/anaconda3/lib/python3.9/site-packages (from scikit-learn) (1.11.1)\n",
      "Requirement already satisfied: joblib>=1.1.1 in /home/macavins/anaconda3/lib/python3.9/site-packages (from scikit-learn) (1.2.0)\n",
      "Requirement already satisfied: threadpoolctl>=2.0.0 in /home/macavins/anaconda3/lib/python3.9/site-packages (from scikit-learn) (2.2.0)\n",
      "Requirement already satisfied: scikit-learn in /home/macavins/anaconda3/lib/python3.9/site-packages (1.3.1)\n",
      "Requirement already satisfied: numpy<2.0,>=1.17.3 in /home/macavins/anaconda3/lib/python3.9/site-packages (from scikit-learn) (1.24.3)\n",
      "Requirement already satisfied: scipy>=1.5.0 in /home/macavins/anaconda3/lib/python3.9/site-packages (from scikit-learn) (1.11.1)\n",
      "Requirement already satisfied: joblib>=1.1.1 in /home/macavins/anaconda3/lib/python3.9/site-packages (from scikit-learn) (1.2.0)\n",
      "Requirement already satisfied: threadpoolctl>=2.0.0 in /home/macavins/anaconda3/lib/python3.9/site-packages (from scikit-learn) (2.2.0)\n",
      "/home/macavins/anaconda3/lib/python3.9/site-packages/sklearn/__init__.py\n",
      "Requirement already satisfied: tensorflow in /home/macavins/anaconda3/lib/python3.9/site-packages (2.14.0)\n",
      "Requirement already satisfied: absl-py>=1.0.0 in /home/macavins/anaconda3/lib/python3.9/site-packages (from tensorflow) (2.0.0)\n",
      "Requirement already satisfied: astunparse>=1.6.0 in /home/macavins/anaconda3/lib/python3.9/site-packages (from tensorflow) (1.6.3)\n",
      "Requirement already satisfied: flatbuffers>=23.5.26 in /home/macavins/anaconda3/lib/python3.9/site-packages (from tensorflow) (23.5.26)\n",
      "Requirement already satisfied: gast!=0.5.0,!=0.5.1,!=0.5.2,>=0.2.1 in /home/macavins/anaconda3/lib/python3.9/site-packages (from tensorflow) (0.5.4)\n",
      "Requirement already satisfied: google-pasta>=0.1.1 in /home/macavins/anaconda3/lib/python3.9/site-packages (from tensorflow) (0.2.0)\n",
      "Requirement already satisfied: h5py>=2.9.0 in /home/macavins/anaconda3/lib/python3.9/site-packages (from tensorflow) (3.9.0)\n",
      "Requirement already satisfied: libclang>=13.0.0 in /home/macavins/anaconda3/lib/python3.9/site-packages (from tensorflow) (16.0.6)\n",
      "Requirement already satisfied: ml-dtypes==0.2.0 in /home/macavins/anaconda3/lib/python3.9/site-packages (from tensorflow) (0.2.0)\n",
      "Requirement already satisfied: numpy>=1.23.5 in /home/macavins/anaconda3/lib/python3.9/site-packages (from tensorflow) (1.24.3)\n",
      "Requirement already satisfied: opt-einsum>=2.3.2 in /home/macavins/anaconda3/lib/python3.9/site-packages (from tensorflow) (3.3.0)\n",
      "Requirement already satisfied: packaging in /home/macavins/anaconda3/lib/python3.9/site-packages (from tensorflow) (23.1)\n",
      "Requirement already satisfied: protobuf!=4.21.0,!=4.21.1,!=4.21.2,!=4.21.3,!=4.21.4,!=4.21.5,<5.0.0dev,>=3.20.3 in /home/macavins/anaconda3/lib/python3.9/site-packages (from tensorflow) (4.24.4)\n",
      "Requirement already satisfied: setuptools in /home/macavins/anaconda3/lib/python3.9/site-packages (from tensorflow) (68.2.2)\n",
      "Requirement already satisfied: six>=1.12.0 in /home/macavins/anaconda3/lib/python3.9/site-packages (from tensorflow) (1.16.0)\n",
      "Requirement already satisfied: termcolor>=1.1.0 in /home/macavins/anaconda3/lib/python3.9/site-packages (from tensorflow) (2.3.0)\n",
      "Requirement already satisfied: typing-extensions>=3.6.6 in /home/macavins/anaconda3/lib/python3.9/site-packages (from tensorflow) (4.7.1)\n",
      "Requirement already satisfied: wrapt<1.15,>=1.11.0 in /home/macavins/anaconda3/lib/python3.9/site-packages (from tensorflow) (1.14.1)\n",
      "Requirement already satisfied: tensorflow-io-gcs-filesystem>=0.23.1 in /home/macavins/anaconda3/lib/python3.9/site-packages (from tensorflow) (0.34.0)\n",
      "Requirement already satisfied: grpcio<2.0,>=1.24.3 in /home/macavins/anaconda3/lib/python3.9/site-packages (from tensorflow) (1.59.0)\n",
      "Requirement already satisfied: tensorboard<2.15,>=2.14 in /home/macavins/anaconda3/lib/python3.9/site-packages (from tensorflow) (2.14.1)\n",
      "Requirement already satisfied: tensorflow-estimator<2.15,>=2.14.0 in /home/macavins/anaconda3/lib/python3.9/site-packages (from tensorflow) (2.14.0)\n",
      "Requirement already satisfied: keras<2.15,>=2.14.0 in /home/macavins/anaconda3/lib/python3.9/site-packages (from tensorflow) (2.14.0)\n",
      "Requirement already satisfied: wheel<1.0,>=0.23.0 in /home/macavins/anaconda3/lib/python3.9/site-packages (from astunparse>=1.6.0->tensorflow) (0.41.2)\n",
      "Requirement already satisfied: google-auth<3,>=1.6.3 in /home/macavins/anaconda3/lib/python3.9/site-packages (from tensorboard<2.15,>=2.14->tensorflow) (2.23.3)\n",
      "Requirement already satisfied: google-auth-oauthlib<1.1,>=0.5 in /home/macavins/anaconda3/lib/python3.9/site-packages (from tensorboard<2.15,>=2.14->tensorflow) (1.0.0)\n",
      "Requirement already satisfied: markdown>=2.6.8 in /home/macavins/anaconda3/lib/python3.9/site-packages (from tensorboard<2.15,>=2.14->tensorflow) (3.4.1)\n",
      "Requirement already satisfied: requests<3,>=2.21.0 in /home/macavins/anaconda3/lib/python3.9/site-packages (from tensorboard<2.15,>=2.14->tensorflow) (2.31.0)\n",
      "Requirement already satisfied: tensorboard-data-server<0.8.0,>=0.7.0 in /home/macavins/anaconda3/lib/python3.9/site-packages (from tensorboard<2.15,>=2.14->tensorflow) (0.7.1)\n",
      "Requirement already satisfied: werkzeug>=1.0.1 in /home/macavins/anaconda3/lib/python3.9/site-packages (from tensorboard<2.15,>=2.14->tensorflow) (2.0.3)\n",
      "Requirement already satisfied: cachetools<6.0,>=2.0.0 in /home/macavins/anaconda3/lib/python3.9/site-packages (from google-auth<3,>=1.6.3->tensorboard<2.15,>=2.14->tensorflow) (5.3.1)\n",
      "Requirement already satisfied: pyasn1-modules>=0.2.1 in /home/macavins/anaconda3/lib/python3.9/site-packages (from google-auth<3,>=1.6.3->tensorboard<2.15,>=2.14->tensorflow) (0.2.8)\n",
      "Requirement already satisfied: rsa<5,>=3.1.4 in /home/macavins/anaconda3/lib/python3.9/site-packages (from google-auth<3,>=1.6.3->tensorboard<2.15,>=2.14->tensorflow) (4.9)\n",
      "Requirement already satisfied: requests-oauthlib>=0.7.0 in /home/macavins/anaconda3/lib/python3.9/site-packages (from google-auth-oauthlib<1.1,>=0.5->tensorboard<2.15,>=2.14->tensorflow) (1.3.1)\n",
      "Requirement already satisfied: importlib-metadata>=4.4 in /home/macavins/anaconda3/lib/python3.9/site-packages (from markdown>=2.6.8->tensorboard<2.15,>=2.14->tensorflow) (6.0.0)\n",
      "Requirement already satisfied: charset-normalizer<4,>=2 in /home/macavins/anaconda3/lib/python3.9/site-packages (from requests<3,>=2.21.0->tensorboard<2.15,>=2.14->tensorflow) (2.0.4)\n",
      "Requirement already satisfied: idna<4,>=2.5 in /home/macavins/anaconda3/lib/python3.9/site-packages (from requests<3,>=2.21.0->tensorboard<2.15,>=2.14->tensorflow) (3.4)\n",
      "Requirement already satisfied: urllib3<3,>=1.21.1 in /home/macavins/anaconda3/lib/python3.9/site-packages (from requests<3,>=2.21.0->tensorboard<2.15,>=2.14->tensorflow) (1.26.16)\n",
      "Requirement already satisfied: certifi>=2017.4.17 in /home/macavins/anaconda3/lib/python3.9/site-packages (from requests<3,>=2.21.0->tensorboard<2.15,>=2.14->tensorflow) (2023.7.22)\n",
      "Requirement already satisfied: zipp>=0.5 in /home/macavins/anaconda3/lib/python3.9/site-packages (from importlib-metadata>=4.4->markdown>=2.6.8->tensorboard<2.15,>=2.14->tensorflow) (3.11.0)\n",
      "Requirement already satisfied: pyasn1<0.5.0,>=0.4.6 in /home/macavins/anaconda3/lib/python3.9/site-packages (from pyasn1-modules>=0.2.1->google-auth<3,>=1.6.3->tensorboard<2.15,>=2.14->tensorflow) (0.4.8)\n",
      "Requirement already satisfied: oauthlib>=3.0.0 in /home/macavins/anaconda3/lib/python3.9/site-packages (from requests-oauthlib>=0.7.0->google-auth-oauthlib<1.1,>=0.5->tensorboard<2.15,>=2.14->tensorflow) (3.2.2)\n"
     ]
    }
   ],
   "source": [
    "!pip install scikit-learn\n",
    "!pip install --upgrade scikit-learn\n",
    "import sklearn\n",
    "print(sklearn.__file__)\n",
    "!pip install tensorflow"
   ]
  },
  {
   "cell_type": "code",
   "execution_count": 22,
   "id": "a0515dec",
   "metadata": {
    "id": "a0515dec"
   },
   "outputs": [],
   "source": [
    "#data handling\n",
    "import pandas as pd\n",
    "import numpy as np\n",
    "\n",
    "#data visualization\n",
    "import matplotlib.pyplot as plt\n",
    "import seaborn as sns\n",
    "\n",
    "#preprocessing\n",
    "from sklearn.model_selection import train_test_split\n",
    "from sklearn.preprocessing import LabelEncoder\n",
    "from sklearn.preprocessing import MinMaxScaler\n",
    "\n",
    "#classification\n",
    "import tensorflow as tf\n",
    "from tensorflow import keras\n",
    "from keras.models import Sequential\n",
    "from keras.layers import Dense\n",
    "\n",
    "# performance metrics\n",
    "from sklearn.metrics import balanced_accuracy_score,f1_score,precision_score, recall_score\n",
    "from sklearn.metrics import classification_report\n",
    "from sklearn.metrics import confusion_matrix, ConfusionMatrixDisplay\n",
    "# from sklearn.metrics import plot_confusion_matrix\n",
    "from sklearn.metrics import roc_curve,auc\n",
    "from sklearn.metrics import roc_auc_score\n"
   ]
  },
  {
   "cell_type": "markdown",
   "id": "b45976a3",
   "metadata": {
    "id": "b45976a3"
   },
   "source": [
    "## Read data"
   ]
  },
  {
   "cell_type": "code",
   "execution_count": 4,
   "id": "25a5cb29",
   "metadata": {
    "id": "25a5cb29"
   },
   "outputs": [],
   "source": [
    "\n",
    "#read data directly from a github repository\n",
    "file_url='https://github.com/vappiah/Machine-Learning-Tutorials/raw/main/data/cancer_gene_expression.zip'\n",
    "\n",
    "dataframe=pd.read_csv(file_url)\n"
   ]
  },
  {
   "cell_type": "markdown",
   "id": "e214ad93",
   "metadata": {
    "id": "e214ad93"
   },
   "source": [
    "\n",
    "## Data Exploration & Cleaning\n",
    "\n",
    "\n"
   ]
  },
  {
   "cell_type": "code",
   "execution_count": 5,
   "id": "18e48d71",
   "metadata": {
    "id": "18e48d71",
    "scrolled": true
   },
   "outputs": [
    {
     "name": "stdout",
     "output_type": "stream",
     "text": [
      "(801, 8001)\n"
     ]
    }
   ],
   "source": [
    "#let's check the number of samples and features\n",
    "#note:the last column contain the labels. it is not considered as a feature\n",
    "\n",
    "print(dataframe.shape)"
   ]
  },
  {
   "cell_type": "code",
   "execution_count": 6,
   "id": "7e833043",
   "metadata": {
    "id": "7e833043"
   },
   "outputs": [
    {
     "name": "stdout",
     "output_type": "stream",
     "text": [
      "Index(['gene_1', 'gene_2', 'gene_3'], dtype='object')\n"
     ]
    }
   ],
   "source": [
    "#let's check some of the columns (first, second and third columns)\n",
    "print(dataframe.columns[0:3])"
   ]
  },
  {
   "cell_type": "code",
   "execution_count": 7,
   "id": "2aee3bf1",
   "metadata": {
    "id": "2aee3bf1"
   },
   "outputs": [
    {
     "data": {
      "text/plain": [
       "'Cancer_Type'"
      ]
     },
     "execution_count": 7,
     "metadata": {},
     "output_type": "execute_result"
    }
   ],
   "source": [
    "#lets check the name of the last column of this dataframe\n",
    "\n",
    "dataframe.columns[-1]"
   ]
  },
  {
   "cell_type": "code",
   "execution_count": 8,
   "id": "229679e0",
   "metadata": {
    "id": "229679e0"
   },
   "outputs": [
    {
     "name": "stdout",
     "output_type": "stream",
     "text": [
      "columns with missing values:0\n"
     ]
    }
   ],
   "source": [
    "#check for missing values\n",
    "datanul=dataframe.isnull().sum()\n",
    "g=[i for i in datanul if i>0]\n",
    "\n",
    "print('columns with missing values:%d'%len(g))"
   ]
  },
  {
   "cell_type": "markdown",
   "id": "000af60f",
   "metadata": {
    "id": "000af60f"
   },
   "source": [
    "**GOOD JOB!!!!.** "
   ]
  },
  {
   "cell_type": "code",
   "execution_count": 9,
   "id": "d0560c5a",
   "metadata": {
    "id": "d0560c5a",
    "scrolled": true
   },
   "outputs": [
    {
     "name": "stdout",
     "output_type": "stream",
     "text": [
      "BRCA    300\n",
      "KIRC    146\n",
      "LUAD    141\n",
      "PRAD    136\n",
      "COAD     78\n",
      "Name: Cancer_Type, dtype: int64\n"
     ]
    }
   ],
   "source": [
    "#let's check how many different cancer types are there in the data\n",
    "#note: in this tutorial the cancer types will be referred to as classes or labels\n",
    "\n",
    "print(dataframe['Cancer_Type'].value_counts())"
   ]
  },
  {
   "cell_type": "markdown",
   "id": "046d64c6",
   "metadata": {
    "id": "046d64c6"
   },
   "source": [
    "We can see that there are 5 classes/cancer types. And you can also see the number of samples diagnosed with a cancer type\n",
    "      "
   ]
  },
  {
   "cell_type": "markdown",
   "id": "7a0e165b",
   "metadata": {
    "id": "7a0e165b"
   },
   "source": [
    " \n",
    "## **Data preprocesing** \n",
    "This is done to put the data in an appropriate format before modelling\n"
   ]
  },
  {
   "cell_type": "code",
   "execution_count": 10,
   "id": "a13b9f51",
   "metadata": {
    "id": "a13b9f51"
   },
   "outputs": [],
   "source": [
    "#we will now seperate the feature values from the class. we do this because scikit-learn requires that features and class are separated before parsing them to the classifiers.\n",
    "X=dataframe.iloc[:,0:-1]\n",
    "y=dataframe.iloc[:,-1]"
   ]
  },
  {
   "cell_type": "markdown",
   "id": "264a01cb",
   "metadata": {
    "id": "264a01cb"
   },
   "source": [
    "\\\n",
    "**Encode labels**\n",
    "\n",
    "The labels for this data are categorical and we therefore have to convert them to numeric forms. This is referred to as encoding. Machine learning models usually require input data to be in numeric forms, hence we encoding the labels."
   ]
  },
  {
   "cell_type": "code",
   "execution_count": 11,
   "id": "b251f08b",
   "metadata": {
    "id": "b251f08b"
   },
   "outputs": [],
   "source": [
    "#let's encode target labels (y) with values between 0 and n_classes-1.\n",
    "#encoding will be done using the LabelEncoder\n",
    "label_encoder=LabelEncoder()\n",
    "label_encoder.fit(y)\n",
    "y=label_encoder.transform(y)\n",
    "labels=label_encoder.classes_\n",
    "classes=np.unique(y)\n",
    "nclasses=np.unique(y).shape[0]"
   ]
  },
  {
   "cell_type": "markdown",
   "id": "5f68c4f6",
   "metadata": {
    "id": "5f68c4f6"
   },
   "source": [
    "\\\n",
    "**Data Splitting**\\\n",
    "Data is split into three: training, validation and test sets\\\n",
    "-training set is used for training\\\n",
    "-validation set is used for evaluating the model during training.\\\n",
    "-test set is used to test the model after training and tuning has been completed."
   ]
  },
  {
   "cell_type": "code",
   "execution_count": 12,
   "id": "7bcc2bde",
   "metadata": {
    "id": "7bcc2bde"
   },
   "outputs": [],
   "source": [
    "#split data into training,validation and test sets\n",
    "\n",
    "#split the data into training and test sets\n",
    "X_train,X_test,y_train,y_test=train_test_split(X,y,test_size=0.2)\n",
    "\n",
    "#split the training set into two (training and validation)\n",
    "X_train, X_val, y_train, y_val = train_test_split(X_train,y_train,test_size=0.2)"
   ]
  },
  {
   "cell_type": "markdown",
   "id": "0d1c8d5e",
   "metadata": {
    "id": "0d1c8d5e"
   },
   "source": [
    "\\\n",
    "**Data Normalization**\\\n",
    "Data normalization is done so that the values are in the same range. This will improve model performance and avoid bias.\\\n",
    "Normalization is performed separately on each data set. This is done to prevent data leakage."
   ]
  },
  {
   "cell_type": "code",
   "execution_count": 13,
   "id": "b7fc9256",
   "metadata": {
    "id": "b7fc9256"
   },
   "outputs": [],
   "source": [
    "### scale the data between 0-1"
   ]
  },
  {
   "cell_type": "code",
   "execution_count": 14,
   "id": "4a06d2f6",
   "metadata": {
    "id": "4a06d2f6"
   },
   "outputs": [],
   "source": [
    "min_max_scaler=MinMaxScaler()\n",
    "X_train=min_max_scaler.fit_transform(X_train)\n",
    "X_val=min_max_scaler.fit_transform(X_val)\n",
    "X_test=min_max_scaler.fit_transform(X_test)"
   ]
  },
  {
   "cell_type": "markdown",
   "id": "7a1736a7",
   "metadata": {
    "id": "7a1736a7"
   },
   "source": [
    "  "
   ]
  },
  {
   "cell_type": "markdown",
   "id": "c0f0ba2c",
   "metadata": {
    "id": "c0f0ba2c"
   },
   "source": [
    "### Build the Neural Network Model"
   ]
  },
  {
   "cell_type": "code",
   "execution_count": 15,
   "id": "f0f5060f",
   "metadata": {
    "id": "f0f5060f",
    "scrolled": false
   },
   "outputs": [
    {
     "name": "stderr",
     "output_type": "stream",
     "text": [
      "2023-10-10 10:25:21.860877: E tensorflow/compiler/xla/stream_executor/cuda/cuda_driver.cc:268] failed call to cuInit: CUDA_ERROR_NO_DEVICE: no CUDA-capable device is detected\n"
     ]
    }
   ],
   "source": [
    "#define model\n",
    "model = Sequential()\n",
    "\n",
    "#hidden layer 1\n",
    "model.add(Dense(40, input_dim=X_train.shape[1], activation='relu'))\n",
    "\n",
    "#hidden layer 2\n",
    "model.add(Dense(20, activation='relu'))\n",
    "\n",
    "#output layer\n",
    "model.add(Dense(nclasses, activation='softmax'))\n",
    "\n",
    "#define optimizer and learning rate. We will use Adam optimizer\n",
    "opt_adam = keras.optimizers.Adam(learning_rate=0.001)\n",
    "\n",
    "model.compile(loss=tf.keras.losses.SparseCategoricalCrossentropy(), optimizer=opt_adam, metrics=[keras.metrics.SparseCategoricalAccuracy()])\n"
   ]
  },
  {
   "cell_type": "code",
   "execution_count": 16,
   "id": "080eb398",
   "metadata": {
    "id": "080eb398",
    "scrolled": true
   },
   "outputs": [
    {
     "name": "stdout",
     "output_type": "stream",
     "text": [
      "Epoch 1/200\n",
      "16/16 [==============================] - 1s 22ms/step - loss: 1.2874 - sparse_categorical_accuracy: 0.4961 - val_loss: 0.8070 - val_sparse_categorical_accuracy: 0.5938\n",
      "Epoch 2/200\n",
      "16/16 [==============================] - 0s 10ms/step - loss: 0.6609 - sparse_categorical_accuracy: 0.8301 - val_loss: 0.4204 - val_sparse_categorical_accuracy: 0.9297\n",
      "Epoch 3/200\n",
      "16/16 [==============================] - 0s 11ms/step - loss: 0.3766 - sparse_categorical_accuracy: 0.9492 - val_loss: 0.2179 - val_sparse_categorical_accuracy: 0.9766\n",
      "Epoch 4/200\n",
      "16/16 [==============================] - 0s 11ms/step - loss: 0.1869 - sparse_categorical_accuracy: 0.9961 - val_loss: 0.1138 - val_sparse_categorical_accuracy: 0.9922\n",
      "Epoch 5/200\n",
      "16/16 [==============================] - 0s 11ms/step - loss: 0.1123 - sparse_categorical_accuracy: 0.9980 - val_loss: 0.0645 - val_sparse_categorical_accuracy: 1.0000\n",
      "Epoch 6/200\n",
      "16/16 [==============================] - 0s 11ms/step - loss: 0.0690 - sparse_categorical_accuracy: 0.9980 - val_loss: 0.0479 - val_sparse_categorical_accuracy: 0.9922\n",
      "Epoch 7/200\n",
      "16/16 [==============================] - 0s 11ms/step - loss: 0.0474 - sparse_categorical_accuracy: 1.0000 - val_loss: 0.0409 - val_sparse_categorical_accuracy: 0.9922\n",
      "Epoch 8/200\n",
      "16/16 [==============================] - 0s 9ms/step - loss: 0.0369 - sparse_categorical_accuracy: 1.0000 - val_loss: 0.0302 - val_sparse_categorical_accuracy: 1.0000\n",
      "Epoch 9/200\n",
      "16/16 [==============================] - 0s 8ms/step - loss: 0.0288 - sparse_categorical_accuracy: 1.0000 - val_loss: 0.0247 - val_sparse_categorical_accuracy: 1.0000\n",
      "Epoch 10/200\n",
      "16/16 [==============================] - 0s 10ms/step - loss: 0.0230 - sparse_categorical_accuracy: 1.0000 - val_loss: 0.0212 - val_sparse_categorical_accuracy: 1.0000\n",
      "Epoch 11/200\n",
      "16/16 [==============================] - 0s 10ms/step - loss: 0.0198 - sparse_categorical_accuracy: 1.0000 - val_loss: 0.0182 - val_sparse_categorical_accuracy: 1.0000\n",
      "Epoch 12/200\n",
      "16/16 [==============================] - 0s 10ms/step - loss: 0.0172 - sparse_categorical_accuracy: 1.0000 - val_loss: 0.0157 - val_sparse_categorical_accuracy: 1.0000\n",
      "Epoch 13/200\n",
      "16/16 [==============================] - 0s 10ms/step - loss: 0.0138 - sparse_categorical_accuracy: 1.0000 - val_loss: 0.0134 - val_sparse_categorical_accuracy: 1.0000\n",
      "Epoch 14/200\n",
      "16/16 [==============================] - 0s 11ms/step - loss: 0.0121 - sparse_categorical_accuracy: 1.0000 - val_loss: 0.0119 - val_sparse_categorical_accuracy: 1.0000\n",
      "Epoch 15/200\n",
      "16/16 [==============================] - 0s 10ms/step - loss: 0.0108 - sparse_categorical_accuracy: 1.0000 - val_loss: 0.0138 - val_sparse_categorical_accuracy: 1.0000\n",
      "Epoch 16/200\n",
      "16/16 [==============================] - 0s 17ms/step - loss: 0.0095 - sparse_categorical_accuracy: 1.0000 - val_loss: 0.0125 - val_sparse_categorical_accuracy: 1.0000\n",
      "Epoch 17/200\n",
      "16/16 [==============================] - 0s 11ms/step - loss: 0.0082 - sparse_categorical_accuracy: 1.0000 - val_loss: 0.0103 - val_sparse_categorical_accuracy: 1.0000\n",
      "Epoch 18/200\n",
      "16/16 [==============================] - 0s 11ms/step - loss: 0.0072 - sparse_categorical_accuracy: 1.0000 - val_loss: 0.0093 - val_sparse_categorical_accuracy: 1.0000\n",
      "Epoch 19/200\n",
      "16/16 [==============================] - 0s 10ms/step - loss: 0.0065 - sparse_categorical_accuracy: 1.0000 - val_loss: 0.0088 - val_sparse_categorical_accuracy: 1.0000\n",
      "Epoch 20/200\n",
      "16/16 [==============================] - 0s 11ms/step - loss: 0.0059 - sparse_categorical_accuracy: 1.0000 - val_loss: 0.0079 - val_sparse_categorical_accuracy: 1.0000\n",
      "Epoch 21/200\n",
      "16/16 [==============================] - 0s 10ms/step - loss: 0.0054 - sparse_categorical_accuracy: 1.0000 - val_loss: 0.0084 - val_sparse_categorical_accuracy: 1.0000\n",
      "Epoch 22/200\n",
      "16/16 [==============================] - 0s 11ms/step - loss: 0.0050 - sparse_categorical_accuracy: 1.0000 - val_loss: 0.0066 - val_sparse_categorical_accuracy: 1.0000\n",
      "Epoch 23/200\n",
      "16/16 [==============================] - 0s 10ms/step - loss: 0.0048 - sparse_categorical_accuracy: 1.0000 - val_loss: 0.0075 - val_sparse_categorical_accuracy: 1.0000\n",
      "Epoch 24/200\n",
      "16/16 [==============================] - 0s 10ms/step - loss: 0.0045 - sparse_categorical_accuracy: 1.0000 - val_loss: 0.0088 - val_sparse_categorical_accuracy: 1.0000\n",
      "Epoch 25/200\n",
      "16/16 [==============================] - 0s 9ms/step - loss: 0.0042 - sparse_categorical_accuracy: 1.0000 - val_loss: 0.0061 - val_sparse_categorical_accuracy: 1.0000\n",
      "Epoch 26/200\n",
      "16/16 [==============================] - 0s 9ms/step - loss: 0.0036 - sparse_categorical_accuracy: 1.0000 - val_loss: 0.0059 - val_sparse_categorical_accuracy: 1.0000\n",
      "Epoch 27/200\n",
      "16/16 [==============================] - 0s 10ms/step - loss: 0.0033 - sparse_categorical_accuracy: 1.0000 - val_loss: 0.0058 - val_sparse_categorical_accuracy: 1.0000\n",
      "Epoch 28/200\n",
      "16/16 [==============================] - 0s 10ms/step - loss: 0.0031 - sparse_categorical_accuracy: 1.0000 - val_loss: 0.0060 - val_sparse_categorical_accuracy: 1.0000\n",
      "Epoch 29/200\n",
      "16/16 [==============================] - 0s 11ms/step - loss: 0.0030 - sparse_categorical_accuracy: 1.0000 - val_loss: 0.0054 - val_sparse_categorical_accuracy: 1.0000\n",
      "Epoch 30/200\n",
      "16/16 [==============================] - 0s 11ms/step - loss: 0.0028 - sparse_categorical_accuracy: 1.0000 - val_loss: 0.0057 - val_sparse_categorical_accuracy: 1.0000\n",
      "Epoch 31/200\n",
      "16/16 [==============================] - 0s 10ms/step - loss: 0.0026 - sparse_categorical_accuracy: 1.0000 - val_loss: 0.0050 - val_sparse_categorical_accuracy: 1.0000\n",
      "Epoch 32/200\n",
      "16/16 [==============================] - 0s 9ms/step - loss: 0.0024 - sparse_categorical_accuracy: 1.0000 - val_loss: 0.0051 - val_sparse_categorical_accuracy: 1.0000\n",
      "Epoch 33/200\n",
      "16/16 [==============================] - 0s 11ms/step - loss: 0.0023 - sparse_categorical_accuracy: 1.0000 - val_loss: 0.0048 - val_sparse_categorical_accuracy: 1.0000\n",
      "Epoch 34/200\n",
      "16/16 [==============================] - 0s 10ms/step - loss: 0.0022 - sparse_categorical_accuracy: 1.0000 - val_loss: 0.0047 - val_sparse_categorical_accuracy: 1.0000\n",
      "Epoch 35/200\n",
      "16/16 [==============================] - 0s 9ms/step - loss: 0.0021 - sparse_categorical_accuracy: 1.0000 - val_loss: 0.0046 - val_sparse_categorical_accuracy: 1.0000\n",
      "Epoch 36/200\n",
      "16/16 [==============================] - 0s 10ms/step - loss: 0.0020 - sparse_categorical_accuracy: 1.0000 - val_loss: 0.0045 - val_sparse_categorical_accuracy: 1.0000\n",
      "Epoch 37/200\n",
      "16/16 [==============================] - 0s 10ms/step - loss: 0.0019 - sparse_categorical_accuracy: 1.0000 - val_loss: 0.0044 - val_sparse_categorical_accuracy: 1.0000\n",
      "Epoch 38/200\n",
      "16/16 [==============================] - 0s 9ms/step - loss: 0.0018 - sparse_categorical_accuracy: 1.0000 - val_loss: 0.0044 - val_sparse_categorical_accuracy: 1.0000\n",
      "Epoch 39/200\n",
      "16/16 [==============================] - 0s 10ms/step - loss: 0.0017 - sparse_categorical_accuracy: 1.0000 - val_loss: 0.0039 - val_sparse_categorical_accuracy: 1.0000\n",
      "Epoch 40/200\n",
      "16/16 [==============================] - 0s 9ms/step - loss: 0.0016 - sparse_categorical_accuracy: 1.0000 - val_loss: 0.0046 - val_sparse_categorical_accuracy: 1.0000\n",
      "Epoch 41/200\n",
      "16/16 [==============================] - 0s 10ms/step - loss: 0.0016 - sparse_categorical_accuracy: 1.0000 - val_loss: 0.0038 - val_sparse_categorical_accuracy: 1.0000\n",
      "Epoch 42/200\n",
      "16/16 [==============================] - 0s 11ms/step - loss: 0.0015 - sparse_categorical_accuracy: 1.0000 - val_loss: 0.0040 - val_sparse_categorical_accuracy: 1.0000\n",
      "Epoch 43/200\n",
      "16/16 [==============================] - 0s 11ms/step - loss: 0.0014 - sparse_categorical_accuracy: 1.0000 - val_loss: 0.0039 - val_sparse_categorical_accuracy: 1.0000\n",
      "Epoch 44/200\n",
      "16/16 [==============================] - 0s 9ms/step - loss: 0.0014 - sparse_categorical_accuracy: 1.0000 - val_loss: 0.0038 - val_sparse_categorical_accuracy: 1.0000\n",
      "Epoch 45/200\n",
      "16/16 [==============================] - 0s 10ms/step - loss: 0.0013 - sparse_categorical_accuracy: 1.0000 - val_loss: 0.0037 - val_sparse_categorical_accuracy: 1.0000\n",
      "Epoch 46/200\n"
     ]
    },
    {
     "name": "stdout",
     "output_type": "stream",
     "text": [
      "16/16 [==============================] - 0s 9ms/step - loss: 0.0012 - sparse_categorical_accuracy: 1.0000 - val_loss: 0.0035 - val_sparse_categorical_accuracy: 1.0000\n",
      "Epoch 47/200\n",
      "16/16 [==============================] - 0s 9ms/step - loss: 0.0012 - sparse_categorical_accuracy: 1.0000 - val_loss: 0.0033 - val_sparse_categorical_accuracy: 1.0000\n",
      "Epoch 48/200\n",
      "16/16 [==============================] - 0s 10ms/step - loss: 0.0011 - sparse_categorical_accuracy: 1.0000 - val_loss: 0.0036 - val_sparse_categorical_accuracy: 1.0000\n",
      "Epoch 49/200\n",
      "16/16 [==============================] - 0s 10ms/step - loss: 0.0011 - sparse_categorical_accuracy: 1.0000 - val_loss: 0.0033 - val_sparse_categorical_accuracy: 1.0000\n",
      "Epoch 50/200\n",
      "16/16 [==============================] - 0s 9ms/step - loss: 0.0010 - sparse_categorical_accuracy: 1.0000 - val_loss: 0.0032 - val_sparse_categorical_accuracy: 1.0000\n",
      "Epoch 51/200\n",
      "16/16 [==============================] - 0s 9ms/step - loss: 0.0010 - sparse_categorical_accuracy: 1.0000 - val_loss: 0.0032 - val_sparse_categorical_accuracy: 1.0000\n",
      "Epoch 52/200\n",
      "16/16 [==============================] - 0s 9ms/step - loss: 9.7038e-04 - sparse_categorical_accuracy: 1.0000 - val_loss: 0.0034 - val_sparse_categorical_accuracy: 1.0000\n",
      "Epoch 53/200\n",
      "16/16 [==============================] - 0s 9ms/step - loss: 9.4526e-04 - sparse_categorical_accuracy: 1.0000 - val_loss: 0.0031 - val_sparse_categorical_accuracy: 1.0000\n",
      "Epoch 54/200\n",
      "16/16 [==============================] - 0s 10ms/step - loss: 9.0535e-04 - sparse_categorical_accuracy: 1.0000 - val_loss: 0.0031 - val_sparse_categorical_accuracy: 1.0000\n",
      "Epoch 55/200\n",
      "16/16 [==============================] - 0s 8ms/step - loss: 8.7825e-04 - sparse_categorical_accuracy: 1.0000 - val_loss: 0.0031 - val_sparse_categorical_accuracy: 1.0000\n",
      "Epoch 56/200\n",
      "16/16 [==============================] - 0s 10ms/step - loss: 8.5374e-04 - sparse_categorical_accuracy: 1.0000 - val_loss: 0.0030 - val_sparse_categorical_accuracy: 1.0000\n",
      "Epoch 57/200\n",
      "16/16 [==============================] - 0s 10ms/step - loss: 8.2007e-04 - sparse_categorical_accuracy: 1.0000 - val_loss: 0.0029 - val_sparse_categorical_accuracy: 1.0000\n",
      "Epoch 58/200\n",
      "16/16 [==============================] - 0s 9ms/step - loss: 7.9218e-04 - sparse_categorical_accuracy: 1.0000 - val_loss: 0.0029 - val_sparse_categorical_accuracy: 1.0000\n",
      "Epoch 59/200\n",
      "16/16 [==============================] - 0s 9ms/step - loss: 7.6820e-04 - sparse_categorical_accuracy: 1.0000 - val_loss: 0.0029 - val_sparse_categorical_accuracy: 1.0000\n",
      "Epoch 60/200\n",
      "16/16 [==============================] - 0s 9ms/step - loss: 7.3685e-04 - sparse_categorical_accuracy: 1.0000 - val_loss: 0.0030 - val_sparse_categorical_accuracy: 1.0000\n",
      "Epoch 61/200\n",
      "16/16 [==============================] - 0s 8ms/step - loss: 7.2330e-04 - sparse_categorical_accuracy: 1.0000 - val_loss: 0.0026 - val_sparse_categorical_accuracy: 1.0000\n",
      "Epoch 62/200\n",
      "16/16 [==============================] - 0s 10ms/step - loss: 7.0497e-04 - sparse_categorical_accuracy: 1.0000 - val_loss: 0.0030 - val_sparse_categorical_accuracy: 1.0000\n",
      "Epoch 63/200\n",
      "16/16 [==============================] - 0s 9ms/step - loss: 6.8008e-04 - sparse_categorical_accuracy: 1.0000 - val_loss: 0.0025 - val_sparse_categorical_accuracy: 1.0000\n",
      "Epoch 64/200\n",
      "16/16 [==============================] - 0s 10ms/step - loss: 6.5004e-04 - sparse_categorical_accuracy: 1.0000 - val_loss: 0.0029 - val_sparse_categorical_accuracy: 1.0000\n",
      "Epoch 65/200\n",
      "16/16 [==============================] - 0s 10ms/step - loss: 6.3211e-04 - sparse_categorical_accuracy: 1.0000 - val_loss: 0.0026 - val_sparse_categorical_accuracy: 1.0000\n",
      "Epoch 66/200\n",
      "16/16 [==============================] - 0s 10ms/step - loss: 6.1659e-04 - sparse_categorical_accuracy: 1.0000 - val_loss: 0.0026 - val_sparse_categorical_accuracy: 1.0000\n",
      "Epoch 67/200\n",
      "16/16 [==============================] - 0s 9ms/step - loss: 5.9773e-04 - sparse_categorical_accuracy: 1.0000 - val_loss: 0.0025 - val_sparse_categorical_accuracy: 1.0000\n",
      "Epoch 68/200\n",
      "16/16 [==============================] - 0s 8ms/step - loss: 5.7754e-04 - sparse_categorical_accuracy: 1.0000 - val_loss: 0.0026 - val_sparse_categorical_accuracy: 1.0000\n",
      "Epoch 69/200\n",
      "16/16 [==============================] - 0s 10ms/step - loss: 5.6234e-04 - sparse_categorical_accuracy: 1.0000 - val_loss: 0.0025 - val_sparse_categorical_accuracy: 1.0000\n",
      "Epoch 70/200\n",
      "16/16 [==============================] - 0s 10ms/step - loss: 5.4857e-04 - sparse_categorical_accuracy: 1.0000 - val_loss: 0.0025 - val_sparse_categorical_accuracy: 1.0000\n",
      "Epoch 71/200\n",
      "16/16 [==============================] - 0s 9ms/step - loss: 5.3930e-04 - sparse_categorical_accuracy: 1.0000 - val_loss: 0.0025 - val_sparse_categorical_accuracy: 1.0000\n",
      "Epoch 72/200\n",
      "16/16 [==============================] - 0s 9ms/step - loss: 5.1820e-04 - sparse_categorical_accuracy: 1.0000 - val_loss: 0.0024 - val_sparse_categorical_accuracy: 1.0000\n",
      "Epoch 73/200\n",
      "16/16 [==============================] - 0s 10ms/step - loss: 5.0245e-04 - sparse_categorical_accuracy: 1.0000 - val_loss: 0.0023 - val_sparse_categorical_accuracy: 1.0000\n",
      "Epoch 74/200\n",
      "16/16 [==============================] - 0s 9ms/step - loss: 4.8926e-04 - sparse_categorical_accuracy: 1.0000 - val_loss: 0.0024 - val_sparse_categorical_accuracy: 1.0000\n",
      "Epoch 75/200\n",
      "16/16 [==============================] - 0s 10ms/step - loss: 4.7626e-04 - sparse_categorical_accuracy: 1.0000 - val_loss: 0.0025 - val_sparse_categorical_accuracy: 1.0000\n",
      "Epoch 76/200\n",
      "16/16 [==============================] - 0s 10ms/step - loss: 4.6433e-04 - sparse_categorical_accuracy: 1.0000 - val_loss: 0.0023 - val_sparse_categorical_accuracy: 1.0000\n",
      "Epoch 77/200\n",
      "16/16 [==============================] - 0s 10ms/step - loss: 4.5249e-04 - sparse_categorical_accuracy: 1.0000 - val_loss: 0.0023 - val_sparse_categorical_accuracy: 1.0000\n",
      "Epoch 78/200\n",
      "16/16 [==============================] - 0s 10ms/step - loss: 4.4113e-04 - sparse_categorical_accuracy: 1.0000 - val_loss: 0.0024 - val_sparse_categorical_accuracy: 1.0000\n",
      "Epoch 79/200\n",
      "16/16 [==============================] - 0s 9ms/step - loss: 4.3247e-04 - sparse_categorical_accuracy: 1.0000 - val_loss: 0.0022 - val_sparse_categorical_accuracy: 1.0000\n",
      "Epoch 80/200\n",
      "16/16 [==============================] - 0s 10ms/step - loss: 4.2170e-04 - sparse_categorical_accuracy: 1.0000 - val_loss: 0.0024 - val_sparse_categorical_accuracy: 1.0000\n",
      "Epoch 81/200\n",
      "16/16 [==============================] - 0s 10ms/step - loss: 4.0902e-04 - sparse_categorical_accuracy: 1.0000 - val_loss: 0.0022 - val_sparse_categorical_accuracy: 1.0000\n",
      "Epoch 82/200\n",
      "16/16 [==============================] - 0s 9ms/step - loss: 3.9979e-04 - sparse_categorical_accuracy: 1.0000 - val_loss: 0.0022 - val_sparse_categorical_accuracy: 1.0000\n",
      "Epoch 83/200\n",
      "16/16 [==============================] - 0s 10ms/step - loss: 3.9060e-04 - sparse_categorical_accuracy: 1.0000 - val_loss: 0.0022 - val_sparse_categorical_accuracy: 1.0000\n",
      "Epoch 84/200\n",
      "16/16 [==============================] - 0s 9ms/step - loss: 3.7956e-04 - sparse_categorical_accuracy: 1.0000 - val_loss: 0.0023 - val_sparse_categorical_accuracy: 1.0000\n",
      "Epoch 85/200\n",
      "16/16 [==============================] - 0s 10ms/step - loss: 3.7229e-04 - sparse_categorical_accuracy: 1.0000 - val_loss: 0.0022 - val_sparse_categorical_accuracy: 1.0000\n",
      "Epoch 86/200\n",
      "16/16 [==============================] - 0s 9ms/step - loss: 3.6396e-04 - sparse_categorical_accuracy: 1.0000 - val_loss: 0.0022 - val_sparse_categorical_accuracy: 1.0000\n",
      "Epoch 87/200\n",
      "16/16 [==============================] - 0s 9ms/step - loss: 3.5403e-04 - sparse_categorical_accuracy: 1.0000 - val_loss: 0.0021 - val_sparse_categorical_accuracy: 1.0000\n",
      "Epoch 88/200\n",
      "16/16 [==============================] - 0s 10ms/step - loss: 3.4567e-04 - sparse_categorical_accuracy: 1.0000 - val_loss: 0.0022 - val_sparse_categorical_accuracy: 1.0000\n",
      "Epoch 89/200\n",
      "16/16 [==============================] - 0s 10ms/step - loss: 3.3828e-04 - sparse_categorical_accuracy: 1.0000 - val_loss: 0.0021 - val_sparse_categorical_accuracy: 1.0000\n",
      "Epoch 90/200\n"
     ]
    },
    {
     "name": "stdout",
     "output_type": "stream",
     "text": [
      "16/16 [==============================] - 0s 9ms/step - loss: 3.3117e-04 - sparse_categorical_accuracy: 1.0000 - val_loss: 0.0021 - val_sparse_categorical_accuracy: 1.0000\n",
      "Epoch 91/200\n",
      "16/16 [==============================] - 0s 10ms/step - loss: 3.2328e-04 - sparse_categorical_accuracy: 1.0000 - val_loss: 0.0020 - val_sparse_categorical_accuracy: 1.0000\n",
      "Epoch 92/200\n",
      "16/16 [==============================] - 0s 9ms/step - loss: 3.1792e-04 - sparse_categorical_accuracy: 1.0000 - val_loss: 0.0020 - val_sparse_categorical_accuracy: 1.0000\n",
      "Epoch 93/200\n",
      "16/16 [==============================] - 0s 9ms/step - loss: 3.1025e-04 - sparse_categorical_accuracy: 1.0000 - val_loss: 0.0020 - val_sparse_categorical_accuracy: 1.0000\n",
      "Epoch 94/200\n",
      "16/16 [==============================] - 0s 8ms/step - loss: 3.0286e-04 - sparse_categorical_accuracy: 1.0000 - val_loss: 0.0021 - val_sparse_categorical_accuracy: 1.0000\n",
      "Epoch 95/200\n",
      "16/16 [==============================] - 0s 9ms/step - loss: 2.9656e-04 - sparse_categorical_accuracy: 1.0000 - val_loss: 0.0019 - val_sparse_categorical_accuracy: 1.0000\n",
      "Epoch 96/200\n",
      "16/16 [==============================] - 0s 10ms/step - loss: 2.9076e-04 - sparse_categorical_accuracy: 1.0000 - val_loss: 0.0020 - val_sparse_categorical_accuracy: 1.0000\n",
      "Epoch 97/200\n",
      "16/16 [==============================] - 0s 9ms/step - loss: 2.8368e-04 - sparse_categorical_accuracy: 1.0000 - val_loss: 0.0019 - val_sparse_categorical_accuracy: 1.0000\n",
      "Epoch 98/200\n",
      "16/16 [==============================] - 0s 9ms/step - loss: 2.7878e-04 - sparse_categorical_accuracy: 1.0000 - val_loss: 0.0020 - val_sparse_categorical_accuracy: 1.0000\n",
      "Epoch 99/200\n",
      "16/16 [==============================] - 0s 9ms/step - loss: 2.7201e-04 - sparse_categorical_accuracy: 1.0000 - val_loss: 0.0019 - val_sparse_categorical_accuracy: 1.0000\n",
      "Epoch 100/200\n",
      "16/16 [==============================] - 0s 9ms/step - loss: 2.6711e-04 - sparse_categorical_accuracy: 1.0000 - val_loss: 0.0019 - val_sparse_categorical_accuracy: 1.0000\n",
      "Epoch 101/200\n",
      "16/16 [==============================] - 0s 9ms/step - loss: 2.6231e-04 - sparse_categorical_accuracy: 1.0000 - val_loss: 0.0018 - val_sparse_categorical_accuracy: 1.0000\n",
      "Epoch 102/200\n",
      "16/16 [==============================] - 0s 11ms/step - loss: 2.5732e-04 - sparse_categorical_accuracy: 1.0000 - val_loss: 0.0021 - val_sparse_categorical_accuracy: 1.0000\n",
      "Epoch 103/200\n",
      "16/16 [==============================] - 0s 10ms/step - loss: 2.5060e-04 - sparse_categorical_accuracy: 1.0000 - val_loss: 0.0018 - val_sparse_categorical_accuracy: 1.0000\n",
      "Epoch 104/200\n",
      "16/16 [==============================] - 0s 10ms/step - loss: 2.4597e-04 - sparse_categorical_accuracy: 1.0000 - val_loss: 0.0019 - val_sparse_categorical_accuracy: 1.0000\n",
      "Epoch 105/200\n",
      "16/16 [==============================] - 0s 8ms/step - loss: 2.4114e-04 - sparse_categorical_accuracy: 1.0000 - val_loss: 0.0019 - val_sparse_categorical_accuracy: 1.0000\n",
      "Epoch 106/200\n",
      "16/16 [==============================] - 0s 10ms/step - loss: 2.3686e-04 - sparse_categorical_accuracy: 1.0000 - val_loss: 0.0018 - val_sparse_categorical_accuracy: 1.0000\n",
      "Epoch 107/200\n",
      "16/16 [==============================] - 0s 9ms/step - loss: 2.3241e-04 - sparse_categorical_accuracy: 1.0000 - val_loss: 0.0019 - val_sparse_categorical_accuracy: 1.0000\n",
      "Epoch 108/200\n",
      "16/16 [==============================] - 0s 9ms/step - loss: 2.2706e-04 - sparse_categorical_accuracy: 1.0000 - val_loss: 0.0018 - val_sparse_categorical_accuracy: 1.0000\n",
      "Epoch 109/200\n",
      "16/16 [==============================] - 0s 10ms/step - loss: 2.2230e-04 - sparse_categorical_accuracy: 1.0000 - val_loss: 0.0017 - val_sparse_categorical_accuracy: 1.0000\n",
      "Epoch 110/200\n",
      "16/16 [==============================] - 0s 8ms/step - loss: 2.1836e-04 - sparse_categorical_accuracy: 1.0000 - val_loss: 0.0018 - val_sparse_categorical_accuracy: 1.0000\n",
      "Epoch 111/200\n",
      "16/16 [==============================] - 0s 10ms/step - loss: 2.1454e-04 - sparse_categorical_accuracy: 1.0000 - val_loss: 0.0019 - val_sparse_categorical_accuracy: 1.0000\n",
      "Epoch 112/200\n",
      "16/16 [==============================] - 0s 10ms/step - loss: 2.1050e-04 - sparse_categorical_accuracy: 1.0000 - val_loss: 0.0018 - val_sparse_categorical_accuracy: 1.0000\n",
      "Epoch 113/200\n",
      "16/16 [==============================] - 0s 10ms/step - loss: 2.0688e-04 - sparse_categorical_accuracy: 1.0000 - val_loss: 0.0017 - val_sparse_categorical_accuracy: 1.0000\n",
      "Epoch 114/200\n",
      "16/16 [==============================] - 0s 10ms/step - loss: 2.0262e-04 - sparse_categorical_accuracy: 1.0000 - val_loss: 0.0018 - val_sparse_categorical_accuracy: 1.0000\n",
      "Epoch 115/200\n",
      "16/16 [==============================] - 0s 9ms/step - loss: 1.9896e-04 - sparse_categorical_accuracy: 1.0000 - val_loss: 0.0018 - val_sparse_categorical_accuracy: 1.0000\n",
      "Epoch 116/200\n",
      "16/16 [==============================] - 0s 10ms/step - loss: 1.9510e-04 - sparse_categorical_accuracy: 1.0000 - val_loss: 0.0017 - val_sparse_categorical_accuracy: 1.0000\n",
      "Epoch 117/200\n",
      "16/16 [==============================] - 0s 10ms/step - loss: 1.9172e-04 - sparse_categorical_accuracy: 1.0000 - val_loss: 0.0017 - val_sparse_categorical_accuracy: 1.0000\n",
      "Epoch 118/200\n",
      "16/16 [==============================] - 0s 10ms/step - loss: 1.8814e-04 - sparse_categorical_accuracy: 1.0000 - val_loss: 0.0017 - val_sparse_categorical_accuracy: 1.0000\n",
      "Epoch 119/200\n",
      "16/16 [==============================] - 0s 9ms/step - loss: 1.8456e-04 - sparse_categorical_accuracy: 1.0000 - val_loss: 0.0017 - val_sparse_categorical_accuracy: 1.0000\n",
      "Epoch 120/200\n",
      "16/16 [==============================] - 0s 10ms/step - loss: 1.8163e-04 - sparse_categorical_accuracy: 1.0000 - val_loss: 0.0017 - val_sparse_categorical_accuracy: 1.0000\n",
      "Epoch 121/200\n",
      "16/16 [==============================] - 0s 9ms/step - loss: 1.7841e-04 - sparse_categorical_accuracy: 1.0000 - val_loss: 0.0017 - val_sparse_categorical_accuracy: 1.0000\n",
      "Epoch 122/200\n",
      "16/16 [==============================] - 0s 9ms/step - loss: 1.7489e-04 - sparse_categorical_accuracy: 1.0000 - val_loss: 0.0017 - val_sparse_categorical_accuracy: 1.0000\n",
      "Epoch 123/200\n",
      "16/16 [==============================] - 0s 9ms/step - loss: 1.7236e-04 - sparse_categorical_accuracy: 1.0000 - val_loss: 0.0017 - val_sparse_categorical_accuracy: 1.0000\n",
      "Epoch 124/200\n",
      "16/16 [==============================] - 0s 9ms/step - loss: 1.6977e-04 - sparse_categorical_accuracy: 1.0000 - val_loss: 0.0016 - val_sparse_categorical_accuracy: 1.0000\n",
      "Epoch 125/200\n",
      "16/16 [==============================] - 0s 9ms/step - loss: 1.6645e-04 - sparse_categorical_accuracy: 1.0000 - val_loss: 0.0017 - val_sparse_categorical_accuracy: 1.0000\n",
      "Epoch 126/200\n",
      "16/16 [==============================] - 0s 9ms/step - loss: 1.6348e-04 - sparse_categorical_accuracy: 1.0000 - val_loss: 0.0017 - val_sparse_categorical_accuracy: 1.0000\n",
      "Epoch 127/200\n",
      "16/16 [==============================] - 0s 10ms/step - loss: 1.6043e-04 - sparse_categorical_accuracy: 1.0000 - val_loss: 0.0016 - val_sparse_categorical_accuracy: 1.0000\n",
      "Epoch 128/200\n",
      "16/16 [==============================] - 0s 10ms/step - loss: 1.5765e-04 - sparse_categorical_accuracy: 1.0000 - val_loss: 0.0016 - val_sparse_categorical_accuracy: 1.0000\n",
      "Epoch 129/200\n",
      "16/16 [==============================] - 0s 11ms/step - loss: 1.5593e-04 - sparse_categorical_accuracy: 1.0000 - val_loss: 0.0015 - val_sparse_categorical_accuracy: 1.0000\n",
      "Epoch 130/200\n",
      "16/16 [==============================] - 0s 10ms/step - loss: 1.5249e-04 - sparse_categorical_accuracy: 1.0000 - val_loss: 0.0016 - val_sparse_categorical_accuracy: 1.0000\n",
      "Epoch 131/200\n",
      "16/16 [==============================] - 0s 9ms/step - loss: 1.4994e-04 - sparse_categorical_accuracy: 1.0000 - val_loss: 0.0016 - val_sparse_categorical_accuracy: 1.0000\n",
      "Epoch 132/200\n",
      "16/16 [==============================] - 0s 8ms/step - loss: 1.4723e-04 - sparse_categorical_accuracy: 1.0000 - val_loss: 0.0016 - val_sparse_categorical_accuracy: 1.0000\n",
      "Epoch 133/200\n",
      "16/16 [==============================] - 0s 9ms/step - loss: 1.4501e-04 - sparse_categorical_accuracy: 1.0000 - val_loss: 0.0016 - val_sparse_categorical_accuracy: 1.0000\n",
      "Epoch 134/200\n"
     ]
    },
    {
     "name": "stdout",
     "output_type": "stream",
     "text": [
      "16/16 [==============================] - 0s 10ms/step - loss: 1.4332e-04 - sparse_categorical_accuracy: 1.0000 - val_loss: 0.0016 - val_sparse_categorical_accuracy: 1.0000\n",
      "Epoch 135/200\n",
      "16/16 [==============================] - 0s 8ms/step - loss: 1.4065e-04 - sparse_categorical_accuracy: 1.0000 - val_loss: 0.0015 - val_sparse_categorical_accuracy: 1.0000\n",
      "Epoch 136/200\n",
      "16/16 [==============================] - 0s 10ms/step - loss: 1.3834e-04 - sparse_categorical_accuracy: 1.0000 - val_loss: 0.0016 - val_sparse_categorical_accuracy: 1.0000\n",
      "Epoch 137/200\n",
      "16/16 [==============================] - 0s 9ms/step - loss: 1.3605e-04 - sparse_categorical_accuracy: 1.0000 - val_loss: 0.0015 - val_sparse_categorical_accuracy: 1.0000\n",
      "Epoch 138/200\n",
      "16/16 [==============================] - 0s 9ms/step - loss: 1.3367e-04 - sparse_categorical_accuracy: 1.0000 - val_loss: 0.0015 - val_sparse_categorical_accuracy: 1.0000\n",
      "Epoch 139/200\n",
      "16/16 [==============================] - 0s 9ms/step - loss: 1.3250e-04 - sparse_categorical_accuracy: 1.0000 - val_loss: 0.0016 - val_sparse_categorical_accuracy: 1.0000\n",
      "Epoch 140/200\n",
      "16/16 [==============================] - 0s 9ms/step - loss: 1.2945e-04 - sparse_categorical_accuracy: 1.0000 - val_loss: 0.0014 - val_sparse_categorical_accuracy: 1.0000\n",
      "Epoch 141/200\n",
      "16/16 [==============================] - 0s 10ms/step - loss: 1.2756e-04 - sparse_categorical_accuracy: 1.0000 - val_loss: 0.0015 - val_sparse_categorical_accuracy: 1.0000\n",
      "Epoch 142/200\n",
      "16/16 [==============================] - 0s 9ms/step - loss: 1.2537e-04 - sparse_categorical_accuracy: 1.0000 - val_loss: 0.0015 - val_sparse_categorical_accuracy: 1.0000\n",
      "Epoch 143/200\n",
      "16/16 [==============================] - 0s 10ms/step - loss: 1.2335e-04 - sparse_categorical_accuracy: 1.0000 - val_loss: 0.0015 - val_sparse_categorical_accuracy: 1.0000\n",
      "Epoch 144/200\n",
      "16/16 [==============================] - 0s 9ms/step - loss: 1.2172e-04 - sparse_categorical_accuracy: 1.0000 - val_loss: 0.0015 - val_sparse_categorical_accuracy: 1.0000\n",
      "Epoch 145/200\n",
      "16/16 [==============================] - 0s 9ms/step - loss: 1.1977e-04 - sparse_categorical_accuracy: 1.0000 - val_loss: 0.0015 - val_sparse_categorical_accuracy: 1.0000\n",
      "Epoch 146/200\n",
      "16/16 [==============================] - 0s 10ms/step - loss: 1.1799e-04 - sparse_categorical_accuracy: 1.0000 - val_loss: 0.0015 - val_sparse_categorical_accuracy: 1.0000\n",
      "Epoch 147/200\n",
      "16/16 [==============================] - 0s 9ms/step - loss: 1.1604e-04 - sparse_categorical_accuracy: 1.0000 - val_loss: 0.0015 - val_sparse_categorical_accuracy: 1.0000\n",
      "Epoch 148/200\n",
      "16/16 [==============================] - 0s 10ms/step - loss: 1.1470e-04 - sparse_categorical_accuracy: 1.0000 - val_loss: 0.0014 - val_sparse_categorical_accuracy: 1.0000\n",
      "Epoch 149/200\n",
      "16/16 [==============================] - 0s 10ms/step - loss: 1.1249e-04 - sparse_categorical_accuracy: 1.0000 - val_loss: 0.0015 - val_sparse_categorical_accuracy: 1.0000\n",
      "Epoch 150/200\n",
      "16/16 [==============================] - 0s 9ms/step - loss: 1.1084e-04 - sparse_categorical_accuracy: 1.0000 - val_loss: 0.0015 - val_sparse_categorical_accuracy: 1.0000\n",
      "Epoch 151/200\n",
      "16/16 [==============================] - 0s 9ms/step - loss: 1.0933e-04 - sparse_categorical_accuracy: 1.0000 - val_loss: 0.0014 - val_sparse_categorical_accuracy: 1.0000\n",
      "Epoch 152/200\n",
      "16/16 [==============================] - 0s 10ms/step - loss: 1.0762e-04 - sparse_categorical_accuracy: 1.0000 - val_loss: 0.0015 - val_sparse_categorical_accuracy: 1.0000\n",
      "Epoch 153/200\n",
      "16/16 [==============================] - 0s 9ms/step - loss: 1.0586e-04 - sparse_categorical_accuracy: 1.0000 - val_loss: 0.0014 - val_sparse_categorical_accuracy: 1.0000\n",
      "Epoch 154/200\n",
      "16/16 [==============================] - 0s 9ms/step - loss: 1.0466e-04 - sparse_categorical_accuracy: 1.0000 - val_loss: 0.0014 - val_sparse_categorical_accuracy: 1.0000\n",
      "Epoch 155/200\n",
      "16/16 [==============================] - 0s 10ms/step - loss: 1.0301e-04 - sparse_categorical_accuracy: 1.0000 - val_loss: 0.0014 - val_sparse_categorical_accuracy: 1.0000\n",
      "Epoch 156/200\n",
      "16/16 [==============================] - 0s 10ms/step - loss: 1.0134e-04 - sparse_categorical_accuracy: 1.0000 - val_loss: 0.0015 - val_sparse_categorical_accuracy: 1.0000\n",
      "Epoch 157/200\n",
      "16/16 [==============================] - 0s 9ms/step - loss: 9.9809e-05 - sparse_categorical_accuracy: 1.0000 - val_loss: 0.0014 - val_sparse_categorical_accuracy: 1.0000\n",
      "Epoch 158/200\n",
      "16/16 [==============================] - 0s 9ms/step - loss: 9.8490e-05 - sparse_categorical_accuracy: 1.0000 - val_loss: 0.0014 - val_sparse_categorical_accuracy: 1.0000\n",
      "Epoch 159/200\n",
      "16/16 [==============================] - 0s 10ms/step - loss: 9.7155e-05 - sparse_categorical_accuracy: 1.0000 - val_loss: 0.0014 - val_sparse_categorical_accuracy: 1.0000\n",
      "Epoch 160/200\n",
      "16/16 [==============================] - 0s 9ms/step - loss: 9.5621e-05 - sparse_categorical_accuracy: 1.0000 - val_loss: 0.0013 - val_sparse_categorical_accuracy: 1.0000\n",
      "Epoch 161/200\n",
      "16/16 [==============================] - 0s 10ms/step - loss: 9.4035e-05 - sparse_categorical_accuracy: 1.0000 - val_loss: 0.0014 - val_sparse_categorical_accuracy: 1.0000\n",
      "Epoch 162/200\n",
      "16/16 [==============================] - 0s 10ms/step - loss: 9.2704e-05 - sparse_categorical_accuracy: 1.0000 - val_loss: 0.0014 - val_sparse_categorical_accuracy: 1.0000\n",
      "Epoch 163/200\n",
      "16/16 [==============================] - 0s 9ms/step - loss: 9.1735e-05 - sparse_categorical_accuracy: 1.0000 - val_loss: 0.0014 - val_sparse_categorical_accuracy: 1.0000\n",
      "Epoch 164/200\n",
      "16/16 [==============================] - 0s 9ms/step - loss: 9.0228e-05 - sparse_categorical_accuracy: 1.0000 - val_loss: 0.0014 - val_sparse_categorical_accuracy: 1.0000\n",
      "Epoch 165/200\n",
      "16/16 [==============================] - 0s 9ms/step - loss: 8.8909e-05 - sparse_categorical_accuracy: 1.0000 - val_loss: 0.0013 - val_sparse_categorical_accuracy: 1.0000\n",
      "Epoch 166/200\n",
      "16/16 [==============================] - 0s 10ms/step - loss: 8.7684e-05 - sparse_categorical_accuracy: 1.0000 - val_loss: 0.0013 - val_sparse_categorical_accuracy: 1.0000\n",
      "Epoch 167/200\n",
      "16/16 [==============================] - 0s 9ms/step - loss: 8.6286e-05 - sparse_categorical_accuracy: 1.0000 - val_loss: 0.0014 - val_sparse_categorical_accuracy: 1.0000\n",
      "Epoch 168/200\n",
      "16/16 [==============================] - 0s 9ms/step - loss: 8.5110e-05 - sparse_categorical_accuracy: 1.0000 - val_loss: 0.0013 - val_sparse_categorical_accuracy: 1.0000\n",
      "Epoch 169/200\n",
      "16/16 [==============================] - 0s 9ms/step - loss: 8.3874e-05 - sparse_categorical_accuracy: 1.0000 - val_loss: 0.0014 - val_sparse_categorical_accuracy: 1.0000\n",
      "Epoch 170/200\n",
      "16/16 [==============================] - 0s 9ms/step - loss: 8.2910e-05 - sparse_categorical_accuracy: 1.0000 - val_loss: 0.0014 - val_sparse_categorical_accuracy: 1.0000\n",
      "Epoch 171/200\n",
      "16/16 [==============================] - 0s 9ms/step - loss: 8.1712e-05 - sparse_categorical_accuracy: 1.0000 - val_loss: 0.0013 - val_sparse_categorical_accuracy: 1.0000\n",
      "Epoch 172/200\n",
      "16/16 [==============================] - 0s 9ms/step - loss: 8.0846e-05 - sparse_categorical_accuracy: 1.0000 - val_loss: 0.0014 - val_sparse_categorical_accuracy: 1.0000\n",
      "Epoch 173/200\n",
      "16/16 [==============================] - 0s 11ms/step - loss: 7.9426e-05 - sparse_categorical_accuracy: 1.0000 - val_loss: 0.0013 - val_sparse_categorical_accuracy: 1.0000\n",
      "Epoch 174/200\n",
      "16/16 [==============================] - 0s 10ms/step - loss: 7.8330e-05 - sparse_categorical_accuracy: 1.0000 - val_loss: 0.0013 - val_sparse_categorical_accuracy: 1.0000\n",
      "Epoch 175/200\n",
      "16/16 [==============================] - 0s 11ms/step - loss: 7.7209e-05 - sparse_categorical_accuracy: 1.0000 - val_loss: 0.0013 - val_sparse_categorical_accuracy: 1.0000\n",
      "Epoch 176/200\n",
      "16/16 [==============================] - 0s 11ms/step - loss: 7.6188e-05 - sparse_categorical_accuracy: 1.0000 - val_loss: 0.0013 - val_sparse_categorical_accuracy: 1.0000\n",
      "Epoch 177/200\n",
      "16/16 [==============================] - 0s 10ms/step - loss: 7.5446e-05 - sparse_categorical_accuracy: 1.0000 - val_loss: 0.0013 - val_sparse_categorical_accuracy: 1.0000\n",
      "Epoch 178/200\n"
     ]
    },
    {
     "name": "stdout",
     "output_type": "stream",
     "text": [
      "16/16 [==============================] - 0s 9ms/step - loss: 7.4357e-05 - sparse_categorical_accuracy: 1.0000 - val_loss: 0.0013 - val_sparse_categorical_accuracy: 1.0000\n",
      "Epoch 179/200\n",
      "16/16 [==============================] - 0s 9ms/step - loss: 7.3127e-05 - sparse_categorical_accuracy: 1.0000 - val_loss: 0.0013 - val_sparse_categorical_accuracy: 1.0000\n",
      "Epoch 180/200\n",
      "16/16 [==============================] - 0s 10ms/step - loss: 7.2208e-05 - sparse_categorical_accuracy: 1.0000 - val_loss: 0.0013 - val_sparse_categorical_accuracy: 1.0000\n",
      "Epoch 181/200\n",
      "16/16 [==============================] - 0s 9ms/step - loss: 7.1275e-05 - sparse_categorical_accuracy: 1.0000 - val_loss: 0.0013 - val_sparse_categorical_accuracy: 1.0000\n",
      "Epoch 182/200\n",
      "16/16 [==============================] - 0s 9ms/step - loss: 7.0315e-05 - sparse_categorical_accuracy: 1.0000 - val_loss: 0.0012 - val_sparse_categorical_accuracy: 1.0000\n",
      "Epoch 183/200\n",
      "16/16 [==============================] - 0s 11ms/step - loss: 6.9407e-05 - sparse_categorical_accuracy: 1.0000 - val_loss: 0.0012 - val_sparse_categorical_accuracy: 1.0000\n",
      "Epoch 184/200\n",
      "16/16 [==============================] - 0s 9ms/step - loss: 6.8575e-05 - sparse_categorical_accuracy: 1.0000 - val_loss: 0.0013 - val_sparse_categorical_accuracy: 1.0000\n",
      "Epoch 185/200\n",
      "16/16 [==============================] - 0s 9ms/step - loss: 6.7941e-05 - sparse_categorical_accuracy: 1.0000 - val_loss: 0.0013 - val_sparse_categorical_accuracy: 1.0000\n",
      "Epoch 186/200\n",
      "16/16 [==============================] - 0s 8ms/step - loss: 6.6728e-05 - sparse_categorical_accuracy: 1.0000 - val_loss: 0.0012 - val_sparse_categorical_accuracy: 1.0000\n",
      "Epoch 187/200\n",
      "16/16 [==============================] - 0s 9ms/step - loss: 6.5851e-05 - sparse_categorical_accuracy: 1.0000 - val_loss: 0.0013 - val_sparse_categorical_accuracy: 1.0000\n",
      "Epoch 188/200\n",
      "16/16 [==============================] - 0s 9ms/step - loss: 6.5061e-05 - sparse_categorical_accuracy: 1.0000 - val_loss: 0.0012 - val_sparse_categorical_accuracy: 1.0000\n",
      "Epoch 189/200\n",
      "16/16 [==============================] - 0s 11ms/step - loss: 6.4148e-05 - sparse_categorical_accuracy: 1.0000 - val_loss: 0.0012 - val_sparse_categorical_accuracy: 1.0000\n",
      "Epoch 190/200\n",
      "16/16 [==============================] - 0s 9ms/step - loss: 6.3254e-05 - sparse_categorical_accuracy: 1.0000 - val_loss: 0.0012 - val_sparse_categorical_accuracy: 1.0000\n",
      "Epoch 191/200\n",
      "16/16 [==============================] - 0s 9ms/step - loss: 6.2468e-05 - sparse_categorical_accuracy: 1.0000 - val_loss: 0.0013 - val_sparse_categorical_accuracy: 1.0000\n",
      "Epoch 192/200\n",
      "16/16 [==============================] - 0s 8ms/step - loss: 6.1688e-05 - sparse_categorical_accuracy: 1.0000 - val_loss: 0.0013 - val_sparse_categorical_accuracy: 1.0000\n",
      "Epoch 193/200\n",
      "16/16 [==============================] - 0s 10ms/step - loss: 6.0926e-05 - sparse_categorical_accuracy: 1.0000 - val_loss: 0.0012 - val_sparse_categorical_accuracy: 1.0000\n",
      "Epoch 194/200\n",
      "16/16 [==============================] - 0s 10ms/step - loss: 6.0128e-05 - sparse_categorical_accuracy: 1.0000 - val_loss: 0.0013 - val_sparse_categorical_accuracy: 1.0000\n",
      "Epoch 195/200\n",
      "16/16 [==============================] - 0s 10ms/step - loss: 5.9296e-05 - sparse_categorical_accuracy: 1.0000 - val_loss: 0.0012 - val_sparse_categorical_accuracy: 1.0000\n",
      "Epoch 196/200\n",
      "16/16 [==============================] - 0s 10ms/step - loss: 5.8531e-05 - sparse_categorical_accuracy: 1.0000 - val_loss: 0.0012 - val_sparse_categorical_accuracy: 1.0000\n",
      "Epoch 197/200\n",
      "16/16 [==============================] - 0s 10ms/step - loss: 5.7900e-05 - sparse_categorical_accuracy: 1.0000 - val_loss: 0.0012 - val_sparse_categorical_accuracy: 1.0000\n",
      "Epoch 198/200\n",
      "16/16 [==============================] - 0s 9ms/step - loss: 5.7106e-05 - sparse_categorical_accuracy: 1.0000 - val_loss: 0.0011 - val_sparse_categorical_accuracy: 1.0000\n",
      "Epoch 199/200\n",
      "16/16 [==============================] - 0s 10ms/step - loss: 5.6467e-05 - sparse_categorical_accuracy: 1.0000 - val_loss: 0.0012 - val_sparse_categorical_accuracy: 1.0000\n",
      "Epoch 200/200\n",
      "16/16 [==============================] - 0s 9ms/step - loss: 5.5622e-05 - sparse_categorical_accuracy: 1.0000 - val_loss: 0.0012 - val_sparse_categorical_accuracy: 1.0000\n"
     ]
    }
   ],
   "source": [
    "#fit the model to the training data\n",
    "history = model.fit(X_train, y_train, validation_data=(X_val, y_val), batch_size=32,epochs=200, verbose=1)\n"
   ]
  },
  {
   "cell_type": "code",
   "execution_count": 25,
   "id": "f5a5b8bc",
   "metadata": {
    "id": "f5a5b8bc",
    "scrolled": false
   },
   "outputs": [
    {
     "name": "stdout",
     "output_type": "stream",
     "text": [
      "6/6 [==============================] - 0s 3ms/step\n"
     ]
    }
   ],
   "source": [
    "predictions = model.predict(X_test)\n",
    "_, accuracy = model.evaluate(X_test, y_test, verbose=0)"
   ]
  },
  {
   "cell_type": "code",
   "execution_count": 26,
   "id": "e35f6f4a",
   "metadata": {
    "id": "e35f6f4a",
    "scrolled": true
   },
   "outputs": [
    {
     "name": "stdout",
     "output_type": "stream",
     "text": [
      "predicted:3 ,actual:3\n",
      "predicted:4 ,actual:4\n",
      "predicted:0 ,actual:0\n",
      "predicted:3 ,actual:3\n",
      "predicted:0 ,actual:0\n",
      "predicted:0 ,actual:0\n",
      "predicted:0 ,actual:0\n",
      "predicted:0 ,actual:0\n",
      "predicted:2 ,actual:2\n",
      "predicted:3 ,actual:3\n",
      "predicted:1 ,actual:1\n",
      "predicted:0 ,actual:0\n",
      "predicted:0 ,actual:0\n",
      "predicted:0 ,actual:0\n",
      "predicted:2 ,actual:2\n",
      "predicted:2 ,actual:2\n",
      "predicted:4 ,actual:4\n",
      "predicted:3 ,actual:3\n",
      "predicted:4 ,actual:4\n",
      "predicted:0 ,actual:0\n"
     ]
    }
   ],
   "source": [
    "#get the predictions for the first 20 samples in the test set\n",
    "for index,entry in enumerate(predictions[0:20,:]):\n",
    "    print('predicted:%d ,actual:%d'%(np.argmax(entry),y_test[index]))"
   ]
  },
  {
   "cell_type": "code",
   "execution_count": 27,
   "id": "b3ed706e",
   "metadata": {
    "id": "b3ed706e"
   },
   "outputs": [
    {
     "data": {
      "image/png": "[encoded data removed]",
      "text/plain": [
       "<Figure size 640x480 with 1 Axes>"
      ]
     },
     "metadata": {},
     "output_type": "display_data"
    }
   ],
   "source": [
    "# summarize history for accuracy\n",
    "plt.plot(history.history['sparse_categorical_accuracy'])\n",
    "plt.plot(history.history['val_sparse_categorical_accuracy'])\n",
    "plt.title('model performance')\n",
    "plt.ylabel('accuracy')\n",
    "plt.xlabel('epoch')\n",
    "plt.legend(['train', 'val'], loc='lower right')\n",
    "plt.show()\n"
   ]
  },
  {
   "cell_type": "code",
   "execution_count": 28,
   "id": "e0ddadca",
   "metadata": {
    "id": "e0ddadca"
   },
   "outputs": [
    {
     "data": {
      "image/png": "[encoded data removed]",
      "text/plain": [
       "<Figure size 640x480 with 1 Axes>"
      ]
     },
     "metadata": {},
     "output_type": "display_data"
    }
   ],
   "source": [
    "# summarize history for loss\n",
    "plt.plot(history.history['loss'])\n",
    "plt.plot(history.history['val_loss'])\n",
    "plt.title('model loss')\n",
    "plt.ylabel('loss')\n",
    "plt.xlabel('epoch')\n",
    "plt.legend(['train', 'val'], loc='lower right')\n",
    "plt.show()"
   ]
  },
  {
   "cell_type": "code",
   "execution_count": null,
   "id": "67435b22",
   "metadata": {},
   "outputs": [],
   "source": []
  },
  {
   "cell_type": "code",
   "execution_count": null,
   "id": "56c210ab",
   "metadata": {},
   "outputs": [],
   "source": []
  }
 ],
 "metadata": {
  "colab": {
   "include_colab_link": true,
   "name": "Neural Networks for Cancer Prediction -Episode-1.ipynb",
   "provenance": []
  },
  "kernelspec": {
   "display_name": "Python 3 (ipykernel)",
   "language": "python",
   "name": "python3"
  },
  "language_info": {
   "codemirror_mode": {
    "name": "ipython",
    "version": 3
   },
   "file_extension": ".py",
   "mimetype": "text/x-python",
   "name": "python",
   "nbconvert_exporter": "python",
   "pygments_lexer": "ipython3",
   "version": "3.9.18"
  }
 },
 "nbformat": 4,
 "nbformat_minor": 5
}
